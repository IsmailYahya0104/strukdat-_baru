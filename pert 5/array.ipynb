{
 "cells": [
  {
   "cell_type": "code",
   "execution_count": null,
   "id": "d93ab2a3",
   "metadata": {},
   "outputs": [],
   "source": [
    "motor = [\"honda\", \"suzuki\", \"yamaha\"]\n",
    "print(mototr[0])\n",
    "print(motor[1])\n",
    "print(motor[2])"
   ]
  }
 ],
 "metadata": {
  "language_info": {
   "name": "python"
  }
 },
 "nbformat": 4,
 "nbformat_minor": 5
}
